{
 "cells": [
  {
   "cell_type": "code",
   "execution_count": 1,
   "id": "4438cd58",
   "metadata": {},
   "outputs": [
    {
     "name": "stdout",
     "output_type": "stream",
     "text": [
      "Requirement already satisfied: pandasql in c:\\users\\oldva\\anaconda3\\lib\\site-packages (0.7.3)\n",
      "Requirement already satisfied: pandas in c:\\users\\oldva\\anaconda3\\lib\\site-packages (from pandasql) (1.4.2)\n",
      "Requirement already satisfied: numpy in c:\\users\\oldva\\anaconda3\\lib\\site-packages (from pandasql) (1.21.5)\n",
      "Requirement already satisfied: sqlalchemy in c:\\users\\oldva\\anaconda3\\lib\\site-packages (from pandasql) (1.4.32)\n",
      "Requirement already satisfied: pytz>=2020.1 in c:\\users\\oldva\\anaconda3\\lib\\site-packages (from pandas->pandasql) (2021.3)\n",
      "Requirement already satisfied: python-dateutil>=2.8.1 in c:\\users\\oldva\\anaconda3\\lib\\site-packages (from pandas->pandasql) (2.8.2)\n",
      "Requirement already satisfied: six>=1.5 in c:\\users\\oldva\\anaconda3\\lib\\site-packages (from python-dateutil>=2.8.1->pandas->pandasql) (1.16.0)\n",
      "Requirement already satisfied: greenlet!=0.4.17 in c:\\users\\oldva\\anaconda3\\lib\\site-packages (from sqlalchemy->pandasql) (1.1.1)\n"
     ]
    }
   ],
   "source": [
    "!pip install pandasql"
   ]
  },
  {
   "cell_type": "code",
   "execution_count": 2,
   "id": "cf3c2974",
   "metadata": {},
   "outputs": [],
   "source": [
    "import pandas as pd\n",
    "import pandasql\n",
    "import sqlite3"
   ]
  },
  {
   "cell_type": "markdown",
   "id": "eaf99939",
   "metadata": {},
   "source": [
    "1)Опишите имеющиеся колонки в данных - сделайте аналог describe в pandas для колонок."
   ]
  },
  {
   "cell_type": "code",
   "execution_count": 3,
   "id": "070be776",
   "metadata": {},
   "outputs": [
    {
     "data": {
      "text/html": [
       "<div>\n",
       "<style scoped>\n",
       "    .dataframe tbody tr th:only-of-type {\n",
       "        vertical-align: middle;\n",
       "    }\n",
       "\n",
       "    .dataframe tbody tr th {\n",
       "        vertical-align: top;\n",
       "    }\n",
       "\n",
       "    .dataframe thead th {\n",
       "        text-align: right;\n",
       "    }\n",
       "</style>\n",
       "<table border=\"1\" class=\"dataframe\">\n",
       "  <thead>\n",
       "    <tr style=\"text-align: right;\">\n",
       "      <th></th>\n",
       "      <th>Cust_ID</th>\n",
       "      <th>Purchase</th>\n",
       "      <th>Cheq_Bal</th>\n",
       "      <th>Sav_Bal</th>\n",
       "      <th>Debt_Bal</th>\n",
       "      <th>Joint_Acct</th>\n",
       "      <th>Age</th>\n",
       "      <th>Date</th>\n",
       "    </tr>\n",
       "  </thead>\n",
       "  <tbody>\n",
       "    <tr>\n",
       "      <th>0</th>\n",
       "      <td>1</td>\n",
       "      <td>0</td>\n",
       "      <td>1739.48</td>\n",
       "      <td>26918.18</td>\n",
       "      <td>12563.93</td>\n",
       "      <td>0</td>\n",
       "      <td>49</td>\n",
       "      <td>NaT</td>\n",
       "    </tr>\n",
       "    <tr>\n",
       "      <th>1</th>\n",
       "      <td>2</td>\n",
       "      <td>0</td>\n",
       "      <td>2862.35</td>\n",
       "      <td>23093.67</td>\n",
       "      <td>15457.88</td>\n",
       "      <td>0</td>\n",
       "      <td>39</td>\n",
       "      <td>NaT</td>\n",
       "    </tr>\n",
       "    <tr>\n",
       "      <th>2</th>\n",
       "      <td>3</td>\n",
       "      <td>0</td>\n",
       "      <td>2296.66</td>\n",
       "      <td>18037.33</td>\n",
       "      <td>12721.89</td>\n",
       "      <td>0</td>\n",
       "      <td>52</td>\n",
       "      <td>NaT</td>\n",
       "    </tr>\n",
       "    <tr>\n",
       "      <th>3</th>\n",
       "      <td>4</td>\n",
       "      <td>1</td>\n",
       "      <td>2880.28</td>\n",
       "      <td>32317.63</td>\n",
       "      <td>7075.03</td>\n",
       "      <td>0</td>\n",
       "      <td>28</td>\n",
       "      <td>2017-04-30</td>\n",
       "    </tr>\n",
       "    <tr>\n",
       "      <th>4</th>\n",
       "      <td>5</td>\n",
       "      <td>0</td>\n",
       "      <td>998.27</td>\n",
       "      <td>15110.04</td>\n",
       "      <td>11356.13</td>\n",
       "      <td>0</td>\n",
       "      <td>43</td>\n",
       "      <td>NaT</td>\n",
       "    </tr>\n",
       "  </tbody>\n",
       "</table>\n",
       "</div>"
      ],
      "text/plain": [
       "   Cust_ID  Purchase  Cheq_Bal   Sav_Bal  Debt_Bal  Joint_Acct  Age       Date\n",
       "0        1         0   1739.48  26918.18  12563.93           0   49        NaT\n",
       "1        2         0   2862.35  23093.67  15457.88           0   39        NaT\n",
       "2        3         0   2296.66  18037.33  12721.89           0   52        NaT\n",
       "3        4         1   2880.28  32317.63   7075.03           0   28 2017-04-30\n",
       "4        5         0    998.27  15110.04  11356.13           0   43        NaT"
      ]
     },
     "metadata": {},
     "output_type": "display_data"
    }
   ],
   "source": [
    "hypothec = pd.read_excel('skill/data/bank_account_data.xlsx')\n",
    "display(hypothec.head())"
   ]
  },
  {
   "cell_type": "code",
   "execution_count": 4,
   "id": "2bf579b6",
   "metadata": {},
   "outputs": [
    {
     "name": "stdout",
     "output_type": "stream",
     "text": [
      "     Cust_ID  Purchase  Cheq_Bal   Sav_Bal  Debt_Bal  Joint_Acct  Age  \\\n",
      "0          1         0   1739.48  26918.18  12563.93           0   49   \n",
      "1          2         0   2862.35  23093.67  15457.88           0   39   \n",
      "2          3         0   2296.66  18037.33  12721.89           0   52   \n",
      "3          4         1   2880.28  32317.63   7075.03           0   28   \n",
      "4          5         0    998.27  15110.04  11356.13           0   43   \n",
      "..       ...       ...       ...       ...       ...         ...  ...   \n",
      "195      196         0   2215.39  20050.87  11307.01           0   32   \n",
      "196      197         0   2074.33  22808.68   7880.16           0   27   \n",
      "197      198         0   1224.07  29926.97   5637.92           0   44   \n",
      "198      199         0   2617.27  14316.61   9445.28           0   38   \n",
      "199      200         0   2125.45  25687.52   4559.63           0   56   \n",
      "\n",
      "                           Date  \n",
      "0                          None  \n",
      "1                          None  \n",
      "2                          None  \n",
      "3    2017-04-30 00:00:00.000000  \n",
      "4                          None  \n",
      "..                          ...  \n",
      "195                        None  \n",
      "196                        None  \n",
      "197                        None  \n",
      "198                        None  \n",
      "199                        None  \n",
      "\n",
      "[200 rows x 8 columns]\n"
     ]
    }
   ],
   "source": [
    "sub_data = pandasql.sqldf(\"SELECT * FROM hypothec\")\n",
    "print(sub_data)"
   ]
  },
  {
   "cell_type": "code",
   "execution_count": 5,
   "id": "a32d8b13",
   "metadata": {},
   "outputs": [
    {
     "name": "stdout",
     "output_type": "stream",
     "text": [
      "   count  avg_Cheq_Bal  avg_Sav_Bal  avg_Debt_Bal  max_Cheq_Bal  max_Sav_Bal  \\\n",
      "0    200     2145.0935  22084.42895     8638.3696       4437.44     39132.63   \n",
      "\n",
      "   max_Debt_Bal  min_Cheq_Bal  min_Sav_Bal  min_Debt_Bal  \n",
      "0       20559.7        644.31      6558.91           0.0  \n"
     ]
    }
   ],
   "source": [
    "data_1 = pandasql.sqldf(\"SELECT\\\n",
    "    COUNT(*) count,\\\n",
    "    AVG(Cheq_Bal) AS avg_Cheq_Bal, AVG(Sav_Bal) AS avg_Sav_Bal, AVG(Debt_Bal) AS avg_Debt_Bal,\\\n",
    "    MAX(Cheq_Bal) AS max_Cheq_Bal, MAX(Sav_Bal) AS max_Sav_Bal, MAX(Debt_Bal) AS max_Debt_Bal,\\\n",
    "    MIN(Cheq_Bal) AS min_Cheq_Bal, MIN(Sav_Bal) AS min_Sav_Bal, MIN(Debt_Bal) AS min_Debt_Bal\\\n",
    "    FROM hypothec\")\n",
    "print(data_1)"
   ]
  },
  {
   "cell_type": "markdown",
   "id": "d254f323",
   "metadata": {},
   "source": [
    "2) Посчитайте совокупный объем средств у клиентов в банке - сумма по всем балансам."
   ]
  },
  {
   "cell_type": "code",
   "execution_count": 6,
   "id": "78fdbe63",
   "metadata": {},
   "outputs": [
    {
     "name": "stdout",
     "output_type": "stream",
     "text": [
      "   совокупный объем средств у клиентов в банке\n",
      "0                                   6573578.41\n"
     ]
    }
   ],
   "source": [
    "data_2 = pandasql.sqldf(\"SELECT\\\n",
    "    SUM(Cheq_Bal + Sav_Bal + Debt_Bal) 'совокупный объем средств у клиентов в банке'\\\n",
    "    FROM hypothec\")\n",
    "print(data_2)"
   ]
  },
  {
   "cell_type": "markdown",
   "id": "189a309f",
   "metadata": {},
   "source": [
    "3) Выведите только тех клиентов, которые приобрели ипотеку (колонка mortgage)."
   ]
  },
  {
   "cell_type": "code",
   "execution_count": 10,
   "id": "9000650f",
   "metadata": {},
   "outputs": [
    {
     "name": "stdout",
     "output_type": "stream",
     "text": [
      "    mortgage\n",
      "0          4\n",
      "1          6\n",
      "2          7\n",
      "3         11\n",
      "4         13\n",
      "5         17\n",
      "6         18\n",
      "7         20\n",
      "8         22\n",
      "9         31\n",
      "10        36\n",
      "11        38\n",
      "12        40\n",
      "13        41\n",
      "14        54\n",
      "15        56\n",
      "16        59\n",
      "17        60\n",
      "18        74\n",
      "19        76\n",
      "20        80\n",
      "21        87\n",
      "22        91\n",
      "23        93\n",
      "24        94\n",
      "25        97\n",
      "26       100\n",
      "27       107\n",
      "28       111\n",
      "29       113\n",
      "30       132\n",
      "31       146\n",
      "32       154\n",
      "33       166\n",
      "34       169\n",
      "35       182\n",
      "36       184\n",
      "37       185\n",
      "38       189\n"
     ]
    }
   ],
   "source": [
    "data_3 = pandasql.sqldf(\"SELECT\\\n",
    "    Cust_ID AS mortgage\\\n",
    "    FROM hypothec\\\n",
    "    WHERE Purchase == 1\")\n",
    "print(data_3)"
   ]
  },
  {
   "cell_type": "markdown",
   "id": "4cb81ee7",
   "metadata": {},
   "source": [
    "4) Какой совокупный объем средств в среднем у клиентов, которые приобрели ипотеку и у клиентов, которые её не приобретали?"
   ]
  },
  {
   "cell_type": "code",
   "execution_count": 11,
   "id": "4227ceb5",
   "metadata": {},
   "outputs": [
    {
     "name": "stdout",
     "output_type": "stream",
     "text": [
      "   совокупный объем средств у клиентов в банке\n",
      "0                                   5167437.49\n",
      "1                                   1406140.92\n"
     ]
    }
   ],
   "source": [
    "data_4 = pandasql.sqldf(\"SELECT\\\n",
    "    SUM(Cheq_Bal + Sav_Bal + Debt_Bal) 'совокупный объем средств у клиентов в банке'\\\n",
    "    FROM hypothec\\\n",
    "    GROUP BY Purchase\")\n",
    "print(data_4)"
   ]
  },
  {
   "cell_type": "markdown",
   "id": "f20cc5b2",
   "metadata": {},
   "source": [
    "5) Есть ли разница в среднем по каждому из типов баланса у клиентов, которые приобрели ипотеку и у клиентов, которые её не приобретали?"
   ]
  },
  {
   "cell_type": "code",
   "execution_count": 12,
   "id": "76658688",
   "metadata": {},
   "outputs": [
    {
     "name": "stdout",
     "output_type": "stream",
     "text": [
      "   Cheq_Bal_avg   Sav_Bal_avg  Debt_Bal_avg\n",
      "0   1996.631366  20257.209814   9842.043851\n",
      "1   2757.975641  29627.564359   3669.355385\n"
     ]
    }
   ],
   "source": [
    "data_5 = pandasql.sqldf(\"SELECT\\\n",
    "    AVG(Cheq_Bal) Cheq_Bal_avg,\\\n",
    "    AVG(Sav_Bal) Sav_Bal_avg,\\\n",
    "    AVG(Debt_Bal) Debt_Bal_avg\\\n",
    "    FROM hypothec\\\n",
    "    GROUP BY Purchase\")\n",
    "print(data_5)"
   ]
  },
  {
   "cell_type": "markdown",
   "id": "101893a2",
   "metadata": {},
   "source": [
    "6) Выберите самого возрастного получателя ипотеки."
   ]
  },
  {
   "cell_type": "code",
   "execution_count": 13,
   "id": "0a1edf48",
   "metadata": {},
   "outputs": [
    {
     "name": "stdout",
     "output_type": "stream",
     "text": [
      "   Cust_ID  Purchase  Cheq_Bal   Sav_Bal  Debt_Bal  Joint_Acct  Age  \\\n",
      "0       41         1    3615.8  24983.76   5663.16           0   45   \n",
      "\n",
      "                         Date  \n",
      "0  2017-08-25 00:00:00.000000  \n"
     ]
    }
   ],
   "source": [
    "data_6 = pandasql.sqldf(\"SELECT *\\\n",
    "    FROM hypothec\\\n",
    "    WHERE Purchase == 1\\\n",
    "    ORDER BY Age DESC\\\n",
    "    LIMIT 1\")\n",
    "print(data_6)"
   ]
  },
  {
   "cell_type": "markdown",
   "id": "c6560de1",
   "metadata": {},
   "source": [
    "7) Выберите клиента, который раньше всех получил ипотеку."
   ]
  },
  {
   "cell_type": "code",
   "execution_count": 14,
   "id": "1db8bd4e",
   "metadata": {},
   "outputs": [
    {
     "name": "stdout",
     "output_type": "stream",
     "text": [
      "   Cust_ID  Purchase  Cheq_Bal   Sav_Bal  Debt_Bal  Joint_Acct  Age  \\\n",
      "0      185         1   1759.04  29198.17   3285.39           1   36   \n",
      "\n",
      "                         Date  \n",
      "0  2017-04-01 00:00:00.000000  \n"
     ]
    }
   ],
   "source": [
    "data_7 = pandasql.sqldf(\"SELECT *\\\n",
    "    FROM hypothec\\\n",
    "    WHERE Date IS NOT NULL\\\n",
    "    AND Purchase == 1\\\n",
    "    ORDER BY Date\\\n",
    "    LIMIT 1\")\n",
    "print(data_7)"
   ]
  },
  {
   "cell_type": "markdown",
   "id": "d637a8d3",
   "metadata": {},
   "source": [
    "8) Создайте любую базу данных в sqlite3, состоящую из 5 колонок, одна из колонок обязательно должна быть типа REAL. (Названия колонок любые, какие захотите)"
   ]
  },
  {
   "cell_type": "code",
   "execution_count": 15,
   "id": "b157ac05",
   "metadata": {},
   "outputs": [],
   "source": [
    "conn = sqlite3.connect('test.db')\n",
    "\n",
    "conn.execute('''\n",
    "CREATE TABLE pokemon ( id INTEGER, \n",
    "name STRING, \n",
    "type STRING, \n",
    "hp INTEGER, \n",
    "rating REAL );''')\n",
    "\n",
    "conn.commit()\n",
    "\n",
    "conn.close()"
   ]
  },
  {
   "cell_type": "markdown",
   "id": "cc8aacd0",
   "metadata": {},
   "source": [
    "9) Добавьте 3 полностью заполненные строки в вашу БД."
   ]
  },
  {
   "cell_type": "code",
   "execution_count": 16,
   "id": "24d81dac",
   "metadata": {},
   "outputs": [],
   "source": [
    "conn = sqlite3.connect('test.db')\n",
    "\n",
    "conn.execute(\"INSERT INTO pokemon VALUES ('1', 'Bulbasaur', 'Grass', '45', '10.0');\")\n",
    "conn.execute(\"INSERT INTO pokemon VALUES ('5', 'Charmander', 'Fire', '39', '9.5');\")\n",
    "conn.execute(\"INSERT INTO pokemon VALUES ('10', 'Squirtle', 'Water', '44', '8.5');\")\n",
    "conn.commit()\n",
    "conn.close()"
   ]
  },
  {
   "cell_type": "code",
   "execution_count": 17,
   "id": "8f447c26",
   "metadata": {},
   "outputs": [],
   "source": [
    "conn = sqlite3.connect('test.db')\n",
    "cur = conn.cursor()\n",
    "cur.execute(\"SELECT * from pokemon;\")\n",
    "\n",
    "result = cur.fetchall()\n",
    "conn.close()"
   ]
  },
  {
   "cell_type": "code",
   "execution_count": 18,
   "id": "a3dbb6ad",
   "metadata": {},
   "outputs": [
    {
     "data": {
      "text/plain": [
       "[(1, 'Bulbasaur', 'Grass', 45, 10.0),\n",
       " (5, 'Charmander', 'Fire', 39, 9.5),\n",
       " (10, 'Squirtle', 'Water', 44, 8.5)]"
      ]
     },
     "execution_count": 18,
     "metadata": {},
     "output_type": "execute_result"
    }
   ],
   "source": [
    "result"
   ]
  },
  {
   "cell_type": "markdown",
   "id": "1ebdd6b7",
   "metadata": {},
   "source": [
    "10) Удалите строку из колонки типа REAL (из пункта 8), в которой значение признака среднее (то есть не минимальное и не максимальное). Напрямую указывать значение из этой строки нельзя."
   ]
  },
  {
   "cell_type": "code",
   "execution_count": 19,
   "id": "6b6f942e",
   "metadata": {},
   "outputs": [],
   "source": [
    "conn = sqlite3.connect('test.db')\n",
    "cur = conn.cursor()\n",
    "cur.execute(\"SELECT * from pokemon ORDER BY rating Limit 1, 1;\")\n",
    "de = cur.fetchall()\n",
    "conn.close()"
   ]
  },
  {
   "cell_type": "code",
   "execution_count": 20,
   "id": "adf872f2",
   "metadata": {},
   "outputs": [],
   "source": [
    "conn = sqlite3.connect('test.db')\n",
    "sql_del = \"DELETE FROM pokemon where id = \"\n",
    "conn.execute(sql_del + str(de[0][0]))\n",
    "\n",
    "conn.commit()\n",
    "conn.close()"
   ]
  },
  {
   "cell_type": "code",
   "execution_count": 21,
   "id": "e0b86554",
   "metadata": {},
   "outputs": [],
   "source": [
    "conn = sqlite3.connect('test.db')\n",
    "cur = conn.cursor()\n",
    "cur.execute(\"SELECT * from pokemon;\")\n",
    "\n",
    "result = cur.fetchall()\n",
    "conn.close()"
   ]
  },
  {
   "cell_type": "code",
   "execution_count": 22,
   "id": "881142be",
   "metadata": {},
   "outputs": [
    {
     "data": {
      "text/plain": [
       "[(1, 'Bulbasaur', 'Grass', 45, 10.0), (10, 'Squirtle', 'Water', 44, 8.5)]"
      ]
     },
     "execution_count": 22,
     "metadata": {},
     "output_type": "execute_result"
    }
   ],
   "source": [
    "result"
   ]
  },
  {
   "cell_type": "code",
   "execution_count": null,
   "id": "d2eef7f9",
   "metadata": {},
   "outputs": [],
   "source": []
  }
 ],
 "metadata": {
  "kernelspec": {
   "display_name": "Python 3 (ipykernel)",
   "language": "python",
   "name": "python3"
  },
  "language_info": {
   "codemirror_mode": {
    "name": "ipython",
    "version": 3
   },
   "file_extension": ".py",
   "mimetype": "text/x-python",
   "name": "python",
   "nbconvert_exporter": "python",
   "pygments_lexer": "ipython3",
   "version": "3.9.12"
  }
 },
 "nbformat": 4,
 "nbformat_minor": 5
}
